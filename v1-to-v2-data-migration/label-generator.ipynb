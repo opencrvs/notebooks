{
 "cells": [
  {
   "cell_type": "markdown",
   "id": "bc21b3bb",
   "metadata": {},
   "source": [
    "## Generate labels and translations\n",
    "\n",
    "One the field mapping is done, this can be run to generate new csv entries for translations."
   ]
  },
  {
   "cell_type": "code",
   "execution_count": null,
   "id": "28758d03",
   "metadata": {},
   "outputs": [],
   "source": [
    "import { authenticate } from './authentication.ts';\n",
    "import { GATEWAY } from './helpers/routes.ts';\n",
    "\n",
    "const token = await authenticate(GATEWAY, 'k.mweene', 'test');"
   ]
  },
  {
   "cell_type": "code",
   "execution_count": null,
   "id": "a7c3220c",
   "metadata": {},
   "outputs": [],
   "source": [
    "import { fetchEvents, fetchForms } from \"./helpers/formsHandlers.ts\";\n",
    "\n",
    "const forms = await fetchForms(token)\n",
    "const events = await fetchEvents(token)"
   ]
  },
  {
   "cell_type": "code",
   "execution_count": null,
   "id": "85b21b4d",
   "metadata": {},
   "outputs": [],
   "source": [
    "import { extractFieldType, extractFormFields } from './helpers/utils.ts'\n",
    "import {\n",
    "  DEFAULT_FIELD_MAPPINGS,\n",
    "  MAPPING_FOR_CUSTOM_FIELDS,\n",
    "} from './helpers/defaultMappings.ts'\n",
    "import { COUNTRY_FIELD_MAPPINGS } from './helpers/countryMappings.ts'\n",
    "\n",
    "const allMappings = {\n",
    "  ...DEFAULT_FIELD_MAPPINGS,\n",
    "  ...MAPPING_FOR_CUSTOM_FIELDS,\n",
    "  ...COUNTRY_FIELD_MAPPINGS,\n",
    "}\n",
    "\n",
    "const birthFormFields = extractFormFields(forms, 'birth')\n",
    "const deathFormFields = extractFormFields(forms, 'death')\n",
    "\n",
    "const birthEvent = events.find((x) => x.id === 'v2.birth')\n",
    "const deathEvent = events.find((x) => x.id === 'v2.death')\n",
    "\n",
    "const birthEventFields = new Set(\n",
    "  extractFieldType(birthEvent, 'fields').filter((x) => x)\n",
    ")\n",
    "\n",
    "const deathEventFields = new Set(\n",
    "  extractFieldType(deathEvent, 'fields').filter((x) => x)\n",
    ")\n",
    "\n",
    "const formFields = [...birthFormFields, ...deathFormFields]\n",
    "const eventFields = [...birthEventFields, ...deathEventFields]\n",
    "\n",
    "const labelMaps = {}\n",
    "\n",
    "const isCountrySelect = (field) => {\n",
    "  return field.options?.resource === 'countries'\n",
    "}\n",
    "\n",
    "Object.keys(allMappings).forEach((k) => {\n",
    "  const v1 = formFields.find((f) => f.id === k)\n",
    "  const v2 = eventFields.find((e) => e.id === allMappings[k])\n",
    "  if (v1 && v2) {\n",
    "    labelMaps[v2.label.id] = v1.label.id\n",
    "    if (v1.options && v2.options && !isCountrySelect(v1)) {\n",
    "      v2.options.forEach(o => {\n",
    "        const match = v1.options.find(opt => opt.value === o.value)\n",
    "        if(match){\n",
    "          labelMaps[o.label.id] = match.label.id\n",
    "        }\n",
    "      })\n",
    "    }\n",
    "    if (v1.options && v2.options && !isCountrySelect(v1)) {\n",
    "      v2.options.forEach(o => {\n",
    "        const match = v1.options.find(opt => opt.value === o.value)\n",
    "        if(match){\n",
    "          labelMaps[o.label.id] = match.label.id\n",
    "        }\n",
    "      })\n",
    "    }\n",
    "  }\n",
    "})\n",
    "\n",
    "labelMaps\n"
   ]
  },
  {
   "cell_type": "code",
   "execution_count": null,
   "id": "615b13af",
   "metadata": {},
   "outputs": [],
   "source": [
    "import { parse, stringify } from 'jsr:@std/csv'\n",
    "\n",
    "const PATH_TO_CLIENT_CSV =\n",
    "  '../../opencrvs-countryconfig/src/translations/client.csv'\n",
    "\n",
    "const translations = await Deno.readTextFile(PATH_TO_CLIENT_CSV)\n",
    "\n",
    "const transJson = parse(translations, {\n",
    "  skipFirstRow: true,\n",
    "  strip: true,\n",
    "})\n",
    "\n",
    "const newTrans = []\n",
    "\n",
    "for (const [key, value] of Object.entries(labelMaps)) {\n",
    "  const match = transJson.find((t) => t.id === value)\n",
    "  newTrans.push({ ...match, id: key })\n",
    "}\n",
    "\n",
    "stringify(newTrans, { columns: Object.keys(newTrans[0]) })\n"
   ]
  }
 ],
 "metadata": {
  "kernelspec": {
   "display_name": "Deno",
   "language": "typescript",
   "name": "deno"
  },
  "language_info": {
   "codemirror_mode": "typescript",
   "file_extension": ".ts",
   "mimetype": "text/x.typescript",
   "name": "typescript",
   "nbconvert_exporter": "script",
   "pygments_lexer": "typescript",
   "version": "5.8.3"
  }
 },
 "nbformat": 4,
 "nbformat_minor": 5
}
